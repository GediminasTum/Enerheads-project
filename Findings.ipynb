{
 "cells": [
  {
   "cell_type": "markdown",
   "id": "0ae6d98d",
   "metadata": {},
   "source": [
    "1st Task:\n",
    "The task used an LSTM model with 30 time steps, 2 layers, and 32 hidden units, trained for 200 epochs using the Adam optimizer at a learning rate of 0.001. The model lets users select between Nord Pool or mFRR datasets to forecast future electricity prices. During training on Nord Pool data, the model showed steady loss reduction, indicating effective learning. It achieved a train RMSE of 29.13 and a test RMSE of 24.53, demonstrating good generalization with an average prediction error of about 25 on unseen data. Additionally, the model accurately predicted the timing of daily minimum prices 79.2% of the time and maximum prices 66.7% of the time within a 2-hour window.\n",
    "\n",
    "\n",
    "To further improve performance, hyperparameters such as the number of layers, learning rate, and optimizer settings should be systematically tuned. Experimenting with more advanced architectures, like combining convolutional neural networks (CNN) with LSTM layers, may capture complex temporal and spatial patterns better. Incorporating additional evaluation metrics like MAE and MAPE can provide deeper insights into model accuracy. Implementing early stopping could prevent overfitting and improve training efficiency.\n",
    "\n",
    "2nd task:\n",
    "While using the solver, the results show that the optimal number of horizons is 36. With this option, the total profit reaches 559.38 EUR, the number of charge events is 9, the number of discharge events is 12, and the total energy throughput is 5.25 MWh."
   ]
  },
  {
   "cell_type": "markdown",
   "id": "c30d9926",
   "metadata": {},
   "source": []
  }
 ],
 "metadata": {
  "language_info": {
   "name": "python"
  }
 },
 "nbformat": 4,
 "nbformat_minor": 5
}
